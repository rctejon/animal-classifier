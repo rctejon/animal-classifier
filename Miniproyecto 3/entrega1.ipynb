{
 "cells": [
  {
   "cell_type": "markdown",
   "metadata": {},
   "source": [
    "# Miniproyecto 3: Clasificación de animales\n",
    "\n",
    "## Entrega 1\n",
    "\n",
    "La clasificación es una de las principales tareas del machine learning. Esta tarea se basa en el usar caracteristicas propias de cada elemento para dividir los datos en diferentes categorias de interés. Sin embargo, los problemas de clasificación tiene muchos inconvenientes en su implementación practica, las clases pueden tener una baja variabilidad entre ellas y alta variabilidad al interior de cada una. Ahora, el trabajo de clasificación en la visión por computador va mas alla de unicamente discriminar los datos en clases ya que una parte importante es poder extraer las caracteristicas que permitan hacer la diferenciación de las clases. \n",
    "\n",
    "A lo largo de todo este miniproyecto nos familiarizaremos con los diferentes clasificadores y descriptores para lograr categorizar las imagenes. En este usaremos un dataset de imagenes de 5 diferentes animales, cada tipo de animal tiene una caracteristica que nosotors, como humanos, somos capaces de identificar para distinguirlos. Veremos como representar estas caracteristicas visuales de forma que un computador pueda entenderlo y categorizar las imagenes usando algoritmos de clasificación. \n",
    "\n",
    "### Parte 1: Exploración de la base de datos\n",
    "Como hemos venido haciendo en todos los miniproyectos, es importante analizar la base de datos con la que trabajaremos. En la siguiente celda determine cuantas imagenes de cada categoria tenemos en cada carpeta (train, valid y test). Tenga en cuenta, que en esta ocasión no debemos cargar datos adicionales para las labels. Cargue las imagenes de train y guardelas en una lista con todas ellas. Aqui es importante que se aseguren que las imagenes sean de 300x300, de no ser así debemos cambiar sus dimensiones para que así sea. Para cambiar el tamaño pueden usar la función resize de open-cv:https://docs.opencv.org/3.4/da/d54/group__imgproc__transform.html#ga47a974309e9102f5f08231edc7e7529d"
   ]
  },
  {
   "cell_type": "code",
   "execution_count": 1,
   "metadata": {},
   "outputs": [],
   "source": [
    "import cv2 \n",
    "import glob\n",
    "import os\n",
    "import numpy as np\n",
    "from matplotlib import pyplot as plt\n",
    "\n",
    "from skimage.filters import prewitt"
   ]
  },
  {
   "cell_type": "code",
   "execution_count": 2,
   "metadata": {},
   "outputs": [],
   "source": [
    "# images train\n",
    "imgs_elefante_train = [cv2.resize(cv2.imread(i),(300,300),interpolation=cv2.INTER_AREA) for i in glob.glob(os.path.join('Dataset', 'train', 'Elefante', '*.jpeg'))]\n",
    "imgs_caballo_train = [cv2.resize(cv2.imread(i),(300,300),interpolation=cv2.INTER_AREA) for i in glob.glob(os.path.join('Dataset', 'train', 'Caballo', '*.jpeg'))]\n",
    "imgs_gato_train = [cv2.resize(cv2.imread(i),(300,300),interpolation=cv2.INTER_AREA) for i in glob.glob(os.path.join('Dataset', 'train', 'Gato', '*.jpeg'))] \n",
    "imgs_oveja_train = [cv2.resize(cv2.imread(i),(300,300),interpolation=cv2.INTER_AREA) for i in glob.glob(os.path.join('Dataset', 'train', 'Oveja', '*.jpeg'))]\n",
    "imgs_perro_train = [cv2.resize(cv2.imread(i),(300,300),interpolation=cv2.INTER_AREA) for i in glob.glob(os.path.join('Dataset', 'train', 'Perro', '*.jpeg'))]\n",
    "# paths valid\n",
    "paths_elefante_valid = glob.glob(os.path.join('Dataset', 'valid', 'Elefante', '*.jpeg'))\n",
    "paths_caballo_valid = glob.glob(os.path.join('Dataset', 'valid', 'Caballo', '*.jpeg'))\n",
    "paths_gato_valid = glob.glob(os.path.join('Dataset', 'valid', 'Gato', '*.jpeg'))\n",
    "paths_oveja_valid = glob.glob(os.path.join('Dataset', 'valid', 'Oveja', '*.jpeg'))\n",
    "paths_perro_valid = glob.glob(os.path.join('Dataset', 'valid', 'Perro', '*.jpeg'))\n",
    "# paths test\n",
    "paths_elefante_test = glob.glob(os.path.join('Dataset', 'test', 'Elefante', '*.jpeg'))\n",
    "paths_caballo_test = glob.glob(os.path.join('Dataset', 'test', 'Caballo', '*.jpeg'))\n",
    "paths_gato_test = glob.glob(os.path.join('Dataset', 'valid', 'Gato', '*.jpeg'))\n",
    "paths_oveja_test = glob.glob(os.path.join('Dataset', 'test', 'Oveja', '*.jpeg'))\n",
    "paths_perro_test = glob.glob(os.path.join('Dataset', 'test', 'Perro', '*.jpeg'))"
   ]
  },
  {
   "cell_type": "code",
   "execution_count": 3,
   "metadata": {},
   "outputs": [],
   "source": [
    "\n",
    "assert len(imgs_elefante_train)+len(imgs_caballo_train)+len(imgs_gato_train)+len(imgs_oveja_train)+len(imgs_perro_train) !=0, 'No cargo ninguna imagen del dataset de entrenamiento'\n",
    "assert np.isclose(len(imgs_elefante_train),531,0.1), f'Deberia tener 531 imagenes en su vector de elefantes train, tiene {len(imgs_elefante_train)}'\n",
    "assert imgs_elefante_train[0].shape[0]==imgs_perro_train[0].shape[0], f'Las dimensiones de todas las imagenes en train deberian ser iguales'\n",
    "assert np.isclose(np.std(imgs_gato_train[0]),60.51,0.1),  'Usted no leyo o guardo bien sus imagenes'\n",
    "### BEGIN HIDDEN SOLUTIONS\n",
    "assert np.isclose(len(paths_elefante_test),274,0.1)\n",
    "### END HIDDEN SOLUTIONS"
   ]
  },
  {
   "cell_type": "code",
   "execution_count": 4,
   "metadata": {},
   "outputs": [
    {
     "name": "stdout",
     "output_type": "stream",
     "text": [
      "El porcentaje de elefantes es: 9.46524064171123%\n",
      "El porcentaje de caballos es: 23.54723707664884%\n",
      "El porcentaje de gatos es: 11.42602495543672%\n",
      "El porcentaje de ovejas es: 12.549019607843137%\n",
      "El porcentaje de perros es: 43.012477718360074%\n"
     ]
    }
   ],
   "source": [
    "# Usen esta celda para imprimir las estadisticas de su base de datos. \n",
    "# Pueden usar el codigo de las tablas del primer miniproyecto\n",
    "totalTrain=len(imgs_elefante_train+imgs_caballo_train+imgs_gato_train+imgs_oveja_train+imgs_perro_train)\n",
    "porcentajeElefante=100*len(imgs_elefante_train)/totalTrain\n",
    "porcentajeCaballo=100*len(imgs_caballo_train)/totalTrain\n",
    "porcentajeGato=100*len(imgs_gato_train)/totalTrain\n",
    "porcentajeOveja=100*len(imgs_oveja_train)/totalTrain\n",
    "porcentajePerro=100*len(imgs_perro_train)/totalTrain\n",
    "print(\"El porcentaje de elefantes es: \"+str(porcentajeElefante)+\"%\")\n",
    "print(\"El porcentaje de caballos es: \"+str(porcentajeCaballo)+\"%\")\n",
    "print(\"El porcentaje de gatos es: \"+str(porcentajeGato)+\"%\")\n",
    "print(\"El porcentaje de ovejas es: \"+str(porcentajeOveja)+\"%\")\n",
    "print(\"El porcentaje de perros es: \"+str(porcentajePerro)+\"%\")"
   ]
  },
  {
   "cell_type": "markdown",
   "metadata": {},
   "source": [
    "### Parte 2: Template Matching\n",
    "Cada objeto en posee caracteristicas visuales propias que nos permiten distinguirlas pueden ser una herramienta util para poder clasificarlos en categorias. En esta ocasión, trabajaremos con una idea que puede resultar intuitiva aunque ingenua para clasificar a una imagen teniendo en cuenta una amplia base de datos, el template matching. Esta tecnica suele usarse para la detección pero nosotros la usaremos como un descriptor de la imagen. \n",
    "\n",
    "#### Parte 2.1: Extracción de partes\n",
    "Como sabe, el Template Matching se basa en encontrar similitud entre partes de la imagen y determinados parches o templates para poder encontrar si existe una estructura similar dentro de la imagen. Por ello, para poder empezar con el algoritmo de Template Matching debemos encontrar nuestros templates. La idea general es extraer partes importantes de las imagenes en cada categoria que tendran una alta respuesta en otras imagenes de la misa categoria, ojos, narices, bigotes, trompas, etc. La selección puede hacerse manual o automatico, en este caso lo haremos de forma automatica seleccionando parches al azar de nuestras imagenes (esperando obtener parches de elementos importantes) o seleccionando parches de partes que potencialmente tienen caracteristicas de interes (como secciones de la imagen con una alta magnitud del gradiente). \n",
    "\n",
    "##### Parte 2.1.1: Obtención de parches\n",
    "Lo primero que haremos será crear una función que recorte los parches de nuestra imagen. En la siguiente celda haga una función que reciba de parametro la imagen de la cual se van a extraer los parches __(ndarray)__, el tamaño de los parches que se van a extraer __(int)__ y una lista con puntos (x,y)__(list)__. La función debe retornar los parches especificados en una lista.\n",
    "\n",
    "\n",
    "**Nota:** Para extraer un parche debe realizar el siguiente procedimiento: \n",
    "- Extraiga el primer punto (x,y) de la lista num_patches\n",
    "- Localice la fila x e la columna y de la imagen\n",
    "- Recorte una ventana de la imagen tomando el punto (x,y) como la esquina superior izquierda del parche\n",
    "- Agregue este parche a el vector de respuestas"
   ]
  },
  {
   "cell_type": "code",
   "execution_count": 5,
   "metadata": {},
   "outputs": [],
   "source": [
    "from skimage.color import rgb2gray\n",
    "def return_patches(im,size,num_patches):\n",
    "    '''''\n",
    "    param-im (array): Imagen de entrada\n",
    "    param-size (int): Tamaño del parche\n",
    "    param-num_patches (list): Lista de puntos (x,y)\n",
    "    '''''\n",
    "    resultado=[]\n",
    "    for i in range(len(num_patches)):  #recorrido para crear el parche\n",
    "        puntoXY=num_patches[i]  \n",
    "        x=puntoXY[0]\n",
    "        y=puntoXY[1]\n",
    "        resultado.append(im[x:x+size,y:y+size])\n",
    "    # YOUR CODE HERE\n",
    "    return resultado"
   ]
  },
  {
   "cell_type": "code",
   "execution_count": 6,
   "metadata": {},
   "outputs": [
    {
     "data": {
      "image/png": "[encoded data removed]",
      "text/plain": [
       "<Figure size 432x288 with 2 Axes>"
      ]
     },
     "metadata": {
      "needs_background": "light"
     },
     "output_type": "display_data"
    }
   ],
   "source": [
    "\n",
    "\n",
    "im=imgs_gato_train[0]\n",
    "patch=return_patches(im,100,[[50,50]])[0]\n",
    "fig,ax=plt.subplots(2)\n",
    "ax[0].imshow(im)\n",
    "ax[0].axis('off')\n",
    "ax[1].imshow(patch)\n",
    "ax[1].axis('off')\n",
    "plt.show()\n",
    "\n",
    "assert patch.shape[0]==patch.shape[1], f'El parche deberia tener las mismas dimensiones {patch.shape[0]}x{patch.shape[0]} y tiene dimensiones {patch.shape[0]}x{patch.shape[1]}'\n",
    "assert patch.shape[0]==100, f'El parche deberia tener dimensiones 100x100 y es {patch.shape[0]}x{patch.shape[1]}'\n",
    "assert np.isclose(np.std(patch),np.std(im[50:50+100,50:50+100]),0.1), 'No la imagen en la posición que deberia'"
   ]
  },
  {
   "cell_type": "markdown",
   "metadata": {},
   "source": [
    "##### Parte 2.1.2: Parches aleatorios\n",
    "Ahora que ya tenemos una función que nos devuelve los parches que le pidamos debemos extraer los parches que consideremos que sean de utilidad. En la siguiente celda, use unicamente las imagenes de gatos de train. Escoja 10 imagenes aleatorias y 3 puntos aleatorios (estos serán los que entrarán como el parametro `num_patches` a la función `return_patches`) para obtener 3 parches de 50x50.\n",
    ">- **Nota:** Para seleccionar los parches aleatorios use np.random.randint(). Adicionalmente, solo puede escoger puntos aleatorios entre (50,50) hasta (250,250) de lo contrario el recorte se saldrá de la imagen. Guarde los parches en escala de grises! para esto puede ayudarse de la función rgb2gray de skimage: https://scikit-image.org/docs/stable/api/skimage.color.html#skimage.color.rgb2gray"
   ]
  },
  {
   "cell_type": "code",
   "execution_count": 9,
   "metadata": {},
   "outputs": [],
   "source": [
    "np.random.seed(42)\n",
    "parches_gatos=[] #parches de gatos\n",
    "r=np.random.randint(0,len(imgs_gato_train),size=10) #vector de indices de las imagenes a seleccionar\n",
    "for i in range(len(r)):\n",
    "    imagenActual=imgs_gato_train[r[i]]\n",
    "    parches=[]\n",
    "    for j in range(3):\n",
    "        parches.append([np.random.randint(0,imagenActual.shape[0]-1),np.random.randint(0,imagenActual.shape[1]-1)])\n",
    "    parches_gatos=parches_gatos+[rgb2gray(k) for k in return_patches(imagenActual,50,parches)]\n",
    "# YOUR CODE HERE\n"
   ]
  },
  {
   "cell_type": "code",
   "execution_count": 10,
   "metadata": {},
   "outputs": [
    {
     "data": {
      "image/png": "[encoded data removed]",
      "text/plain": [
       "<Figure size 432x288 with 30 Axes>"
      ]
     },
     "metadata": {
      "needs_background": "light"
     },
     "output_type": "display_data"
    }
   ],
   "source": [
    "fig,ax=plt.subplots(6,5)\n",
    "c=0\n",
    "for i in range(6):\n",
    "    for j in range(5):\n",
    "        ax[i,j].imshow(parches_gatos[c],cmap='gray')\n",
    "        ax[i,j].axis('off')\n",
    "        c+=1\n",
    "plt.show()\n",
    "\n",
    "assert not(len(parches_gatos)==10 and len(parches_gatos[0])==3), 'Debe tener un solo vector de parches, no un vector de vectores'\n",
    "assert len(parches_gatos)==30, 'Deberia tener 30 parches, son 3 parches de 10 imagenes'\n",
    "assert parches_gatos[0].shape[0]==50, 'El parche debe tener un tamaño de 100x100'\n",
    "assert np.sum(parches_gatos[0])!=0, 'Sus parches no tienen contenido'\n",
    "assert len(parches_gatos[0].shape)==2, 'Sus parches deben ser grises'"
   ]
  },
  {
   "cell_type": "markdown",
   "metadata": {},
   "source": [
    "##### Parte 2.1.3: Parches seleccionados\n",
    "Ahora seleccionaremos parches dependiendo de una caracteristica visual, no aleatoriamente. Primero, obtendremos el gradiente de la imagen con la función `prewitt` de `skimage.filters` que calcula el gradiente de la imagen. Luego, dividiremos la imagen en parches de tamaño especificos y seleccionaremos las 3 ventanas de mayor promedio de gradiente. Haga una función que ingrese la imagen y el tamaño de parches por parametro y retorne las 3 ventanas de mayor gradiente promedio (retorne la imagen original, no el gradiente)"
   ]
  },
  {
   "cell_type": "code",
   "execution_count": 15,
   "metadata": {},
   "outputs": [],
   "source": [
    "from skimage.filters import prewitt\n",
    "def select_patch_gradient(im,size):\n",
    "    '''''\n",
    "    param-im (array): Imagen de entrada\n",
    "    param-size (int): Tamaño del parche\n",
    "    '''''\n",
    "    # YOUR CODE HERE\n",
    "    gradiente=prewitt(im)\n",
    "    respuesta=[]\n",
    "    M = im.shape[0]//size\n",
    "    N = im.shape[1]//size \n",
    "    tiles = [gradiente[x:x+M,y:y+N] for x in range(0,im.shape[0],M) for y in range(0,im.shape[1],N)] #Código obtenido de: https://stackoverflow.com/questions/5953373/how-to-split-image-into-multiple-pieces-in-python\n",
    "    for i in range(len(tiles)):\n",
    "        if len(respuesta)<3:\n",
    "            respuesta.append(tiles[i])\n",
    "        else:\n",
    "            if np.mean(respuesta[0])<=np.mean(tiles[i]) and np.mean(respuesta[0])<=np.mean(respuesta[1]) and np.mean(respuesta[0])<=np.mean(respuesta[2]):\n",
    "                respuesta[0]=tiles[i]\n",
    "            elif np.mean(respuesta[1])<=np.mean(tiles[i]) and np.mean(respuesta[1])<=np.mean(respuesta[0]) and np.mean(respuesta[1])<=np.mean(respuesta[2]):\n",
    "                respuesta[1]=tiles[i]\n",
    "            elif np.mean(respuesta[2])<=np.mean(tiles[i]) and np.mean(respuesta[2])<=np.mean(respuesta[1]) and np.mean(respuesta[2])<=np.mean(respuesta[0]):\n",
    "                respuesta[2]=tiles[i]\n",
    "    return respuesta\n"
   ]
  },
  {
   "cell_type": "code",
   "execution_count": 16,
   "metadata": {},
   "outputs": [
    {
     "data": {
      "image/png": "[encoded data removed]",
      "text/plain": [
       "<Figure size 432x288 with 4 Axes>"
      ]
     },
     "metadata": {
      "needs_background": "light"
     },
     "output_type": "display_data"
    }
   ],
   "source": [
    "im=imgs_gato_train[0]\n",
    "patch_gradiente=select_patch_gradient(im,50)\n",
    "fig,ax=plt.subplots(4)\n",
    "ax[0].imshow(im)\n",
    "ax[0].axis('off')\n",
    "ax[1].imshow(patch_gradiente[0])\n",
    "ax[1].axis('off')\n",
    "ax[2].imshow(patch_gradiente[1])\n",
    "ax[2].axis('off')\n",
    "ax[3].imshow(patch_gradiente[2])\n",
    "ax[3].axis('off')\n",
    "plt.show()"
   ]
  },
  {
   "cell_type": "markdown",
   "metadata": {},
   "source": [
    "Ahora, haga una lista de los parches con las imagenes aleatorias que usó anteriormente."
   ]
  },
  {
   "cell_type": "code",
   "execution_count": null,
   "metadata": {},
   "outputs": [],
   "source": [
    "np.random.seed(42)\n",
    "r= [] #vector de indices de las imagenes a seleccionar\n",
    "parches_gatos_gradiente=[]\n",
    "# YOUR CODE HERE\n"
   ]
  },
  {
   "cell_type": "code",
   "execution_count": null,
   "metadata": {},
   "outputs": [],
   "source": [
    "fig,ax=plt.subplots(6,5)\n",
    "c=0\n",
    "for i in range(6):\n",
    "    for j in range(5):\n",
    "        ax[i,j].imshow(parches_gatos_gradiente[c],cmap='gray')\n",
    "        ax[i,j].axis('off')\n",
    "        c+=1\n",
    "plt.show()\n",
    "\n",
    "assert not(len(parches_gatos_gradiente)==10 and len(parches_gatos_gradiente[0])==3), 'Debe tener un solo vector de parches, no un vector de vectores'\n",
    "assert len(parches_gatos_gradiente)==30, 'Deberia tener 30 parches, son 3 parches de 10 imagenes'\n",
    "assert parches_gatos_gradiente[0].shape[0]==50, 'El parche debe tener un tamaño de 100x100'\n",
    "assert np.sum(parches_gatos_gradiente[0])!=0, 'Sus parches no tienen contenido'\n",
    "assert len(parches_gatos_gradiente[0].shape)==2, 'Sus parches deben ser grises'"
   ]
  },
  {
   "cell_type": "markdown",
   "metadata": {},
   "source": [
    "#### Parte 2.2: Vectores de caracteristicas\n",
    "Ahora que tenemos los templates, procederemos a hacer el template matching con estos. Cada parche contiene caracteristicas que puden considerarse propias de una categoria (en este caso de los gatos) usar el template matching nos permitirá encontrar zonas donde estas caracteristicas estan precentes (en teoria). Haga uso de la función `match_template` de la libreria `skimage.feature` para hacer el template matching con cada uno de sus templates. Para cada resultado, extraiga el valor maximo y agregelo a un vector. Al final, obtendremos un vector de 30 dimensiones (uno por cada template) y usaremos esta información para la clasificación. \n",
    "\n",
    "Haga una función que reciba como parametro la imagen a analizar y la lista de templates, y retorne el vector que se meniconó anteriormente.\n",
    "\n",
    ">- **Nota:** Haga el procesamiento con sus imagenes en escala de grises"
   ]
  },
  {
   "cell_type": "code",
   "execution_count": null,
   "metadata": {},
   "outputs": [],
   "source": [
    "from skimage.feature import match_template\n",
    "\n",
    "def template_vector(im,templates):\n",
    "    '''''\n",
    "    param-im (array): Imagen de entrada\n",
    "    param-templates (array): Vector de templates\n",
    "    '''''\n",
    "    # YOUR CODE HERE\n",
    "    raise NotImplementedError()\n",
    "    return vector"
   ]
  },
  {
   "cell_type": "code",
   "execution_count": null,
   "metadata": {},
   "outputs": [],
   "source": [
    "im=imgs_gato_train[0]\n",
    "#gato 1\n",
    "v1_gato=template_vector(im,parches_gatos)\n",
    "v2_gato=template_vector(im,parches_gatos_gradiente)\n",
    "#gato 2\n",
    "im=imgs_gato_train[2]\n",
    "v3_gato=template_vector(im,parches_gatos)\n",
    "v4_gato=template_vector(im,parches_gatos_gradiente)\n",
    "#perro\n",
    "im=imgs_perro_train[1]\n",
    "v1_perro=template_vector(im,parches_gatos)\n",
    "v2_perro=template_vector(im,parches_gatos_gradiente)"
   ]
  },
  {
   "cell_type": "code",
   "execution_count": null,
   "metadata": {},
   "outputs": [],
   "source": [
    "from skimage.color import rgb2gray\n",
    "assert len(v1_gato)==30, 'Las dimensiones del vector deben ser 30, uno por cada template'\n",
    "assert np.isclose(v1_gato[0],np.max(match_template(rgb2gray(im),parches_gatos[0])),0.1), 'La primera dimensión de su vector no correspoonde a al template matching del primer template'"
   ]
  },
  {
   "cell_type": "markdown",
   "metadata": {},
   "source": [
    "Ya tenemos un par de vectores para para 3 imagenes diferentes, dos gatos y un perro. Ahora, vamos a calcular la distancia euclidea entre todos los vectores para determinar cuales se parecen más que otros."
   ]
  },
  {
   "cell_type": "code",
   "execution_count": null,
   "metadata": {},
   "outputs": [],
   "source": [
    "d_perro_gato1='' #distancia entre vector de perro y gato 1\n",
    "d_perro_gato2='' #distancia entre vector de perro y gato 2\n",
    "d_gato1_gato2='' #distancia entre vector de perro y gato 1\n",
    "# YOUR CODE HERE\n",
    "raise NotImplementedError()"
   ]
  },
  {
   "cell_type": "code",
   "execution_count": null,
   "metadata": {},
   "outputs": [],
   "source": [
    "print(d_perro_gato1)\n",
    "print(d_perro_gato2)\n",
    "print(d_gato1_gato2)\n",
    "\n",
    "assert d_perro_gato1>d_gato1_gato2, 'La distancia de el vectro de gato2 al perro debe ser menor que la del gato 1 al gato 2'"
   ]
  },
  {
   "cell_type": "markdown",
   "metadata": {},
   "source": [
    "#### Parte 2.3: Parches de entrenamiento\n",
    "Ya hemos obtenido los parches para la categoria de gato, es hora de obtener los parches de las demas categorias. En la siguiente celda cree un diccionario, las llaves serán las los nombres de categorias y los valores serán los vectores de parches de cada categoria. Escoja unicamente la selección de parches por gradiente."
   ]
  },
  {
   "cell_type": "code",
   "execution_count": null,
   "metadata": {},
   "outputs": [],
   "source": [
    "parches_entrenamiento={}\n",
    "np.random.seed(42)\n",
    "llaves=['gato','elefante','perro','oveja','caballo']\n",
    "r2=np.random.randint(0,len(imgs_elefante_train),size=10)\n",
    "r3=np.random.randint(0,len(imgs_perro_train),size=10)\n",
    "r4=np.random.randint(0,len(imgs_oveja_train),size=10)\n",
    "r5=np.random.randint(0,len(imgs_caballo_train),size=10)\n",
    "\n",
    "# YOUR CODE HERE\n",
    "raise NotImplementedError()"
   ]
  },
  {
   "cell_type": "code",
   "execution_count": null,
   "metadata": {},
   "outputs": [],
   "source": [
    "parches=parches_entrenamiento['perro']\n",
    "\n",
    "fig,ax=plt.subplots(6,5)\n",
    "c=0\n",
    "for i in range(6):\n",
    "    for j in range(5):\n",
    "        ax[i,j].imshow(parches[c],cmap='gray')\n",
    "        ax[i,j].axis('off')\n",
    "        c+=1\n",
    "plt.show()"
   ]
  },
  {
   "cell_type": "code",
   "execution_count": null,
   "metadata": {},
   "outputs": [],
   "source": [
    "assert len(parches_entrenamiento.keys())==5, 'Debe tener 5 llaves su diccionario'\n",
    "assert 'perro' in parches_entrenamiento.keys(), 'Su diccionario debe tener la llave perro'\n",
    "assert 'gato' in parches_entrenamiento.keys(), 'Su diccionario debe tener la llave gato'\n",
    "assert len(parches_entrenamiento['perro'])==30, 'Debe tener 30 templates de perro en su diccionario'\n",
    "assert parches_entrenamiento['perro'][0].shape[0]==50, 'Sus parches deben ser 50x50'"
   ]
  },
  {
   "cell_type": "markdown",
   "metadata": {},
   "source": [
    "#### Parte 2.4: Vectores de entrenamiento\n",
    "Ahora, haremos uso de todos nuestros parches para generar los vectores de template matching. Haga una función que reciba el diccionario de parches de entrenamiento como parametro y una imagen a la cual sacar el descriptor. El descriptor final será un vector resultado de la concatenación de los vectores gato,elefante,perro,oveja,caballo en ese orden."
   ]
  },
  {
   "cell_type": "code",
   "execution_count": null,
   "metadata": {},
   "outputs": [],
   "source": [
    "def vector_final(dict_entrenamiento,im):\n",
    "    '''''\n",
    "    param-dict_entrenamiento (dict): Diccionario de parches de entrenamiento\n",
    "    param-im (array): Imagen de entrada\n",
    "    '''''\n",
    "    # YOUR CODE HERE\n",
    "    raise NotImplementedError()\n",
    "    return respuesta"
   ]
  },
  {
   "cell_type": "code",
   "execution_count": null,
   "metadata": {},
   "outputs": [],
   "source": [
    "im=imgs_gato_train[0]\n",
    "v_descriptor=vector_final(parches_entrenamiento,im)\n",
    "\n",
    "assert len(v_descriptor)==150, 'Las dimensiones del descriptor deberian ser 150, 30 por cada clase'\n",
    "assert template_vector(im,parches_entrenamiento['perro'])[0]==v_descriptor[60], 'El vector de descriptor final no se encuentra ordenado como se especificó'\n"
   ]
  },
  {
   "cell_type": "markdown",
   "metadata": {},
   "source": [
    "### Parte 3: Clasificador\n",
    "Ya tenemos una forma de describir nuestras imagenes en forma de vectores, ahora vamos a crear un clasificador de las imagenes que use estos vectores de template matching para comparar las imagenes de entrenamiento con nuevas imagenes de validación. Para esto, crearemos una clase llamada NN_classifier que se inicializará unicamente con el diccionario de parches de entrenamiento. Los atributos de esta clase deben ser el diccionario de parches, los vectores de entrenamiento y las etiquetas de cada vector de entrenamiento. Los vectores de entrenamiento y etiquetas deben iniciar vacios.\n",
    "\n",
    "Las funciones de la clase deben ser fit, predict y vector_final (la función que ya crearon con anterioridad).\n",
    "\n",
    ">- La función de fit debe recibir las imagenes X y las etiquetas y como parametro, debe obtener el descriptor de las imagenes y luego guardar los vectores en el vector de entrenamiento. Haga la función de tal forma que se agreguen vectores de entrenamiento a los atributos, y se pueda entrenar varias veces (Use .append para agregar los nuevos vectores a los atributos)\n",
    ">- La función predict debe recibir un vector de imagenes X, sacar el descriptor de cada imagen y, mediante el metodo de vecino más cercano, determinar la etiqueta de la imagen. Para esto, debe calcular la distancia EUCLIDEA entre su descriptor actual con todos los vectores de entrenamiento, encontrar la menor distancia y extraer la label de este vector para asignarsela al nuevo dato la etiqueta. "
   ]
  },
  {
   "cell_type": "code",
   "execution_count": null,
   "metadata": {},
   "outputs": [],
   "source": [
    "class NN_classifier:\n",
    "    def __init__(self,descriptor):\n",
    "        '''\n",
    "        :param descriptor (dict): Diccionario de templates de entrenamiento.\n",
    "        '''\n",
    "        self.descriptor = '' #atributo del diccionario de templates\n",
    "        self.vectores='' #atributo del vector de descriptores de entrenamiento\n",
    "        self.etiquetas='' #atributo del vector de etiquetas\n",
    "        # YOUR CODE HERE\n",
    "        raise NotImplementedError()\n",
    "    def fit(self,X,y):\n",
    "        '''\n",
    "        :param X: Imagenes de entrenamiento\n",
    "        :param y: Labels de las imagenes\n",
    "        :return: self (Trained descriptor)\n",
    "        '''\n",
    "        # YOUR CODE HERE\n",
    "        raise NotImplementedError()\n",
    "        return self\n",
    "    \n",
    "    def vector_final(self,dict_entrenamiento,im):\n",
    "        '''''\n",
    "        param-dict_entrenamiento (dict): Diccionario de parches de entrenamiento\n",
    "        param-im (array): Imagen de entrada\n",
    "        '''''\n",
    "        # YOUR CODE HERE\n",
    "        raise NotImplementedError()\n",
    "        return respuesta\n",
    "    \n",
    "    def predict(self,X):\n",
    "        '''\n",
    "        :param X (array): Imagenes a predecir\n",
    "        :return: Arreglo de etiquetas predichas\n",
    "        '''\n",
    "        # YOUR CODE HERE\n",
    "        raise NotImplementedError()\n",
    "        return etiqueta"
   ]
  },
  {
   "cell_type": "markdown",
   "metadata": {},
   "source": [
    "#### 3.1: Entrenamiento\n",
    "Ahora que tenemos un modelo clasificador de imagenes, vamos a entrenarlo con nuestras imagenes de entrenamiento. Use la función fit del objeto NN_classifier para entrenar con las imagenes de entrenamiento. Si el modelo se demora mucho entrenando con todas las imagenes, escoja 50 imagenes aleatorias de cada clase para entrenar. Tenga en cuenta que cada categoria debe tener una etiqueta diferente, llene el siguiente diccionario, donde las llaves son las categorias y el value es la etiqueta."
   ]
  },
  {
   "cell_type": "code",
   "execution_count": null,
   "metadata": {},
   "outputs": [],
   "source": [
    "dict_etiquetas={}\n",
    "etiqueta_gato='' #vector de etiquetas de gato\n",
    "etiqueta_perro='' #vector de etiquetas de perro\n",
    "etiqueta_elefante='' #vector de etiquetas de elefante\n",
    "etiqueta_oveja='' #vector de etiquetas de oveja\n",
    "etiqueta_caballo='' #vector de etiquetas de caballo\n",
    "\n",
    "imagenes_gato_train='' #vector de imagenes de gato\n",
    "imagenes_perro_train='' #vector de imagenes de perro\n",
    "imagenes_elefante_train='' #vector de imagenes de elefante\n",
    "imagenes_oveja_train='' #vector de imagenes de oveja\n",
    "imagenes_caballo_train='' #vector de imagenes de caballo\n",
    "# YOUR CODE HERE\n",
    "raise NotImplementedError()"
   ]
  },
  {
   "cell_type": "code",
   "execution_count": null,
   "metadata": {},
   "outputs": [],
   "source": [
    "assert len(dict_etiquetas.keys())==5,'Deben haber 5 diferentes numeros como etiquetas para sus clases'\n",
    "assert len(np.unique(dict_etiquetas.keys())), 'Solo deben haber 5 etiquetas'\n",
    "assert dict_etiquetas['gato']==etiqueta_gato[0], 'La etiqueta de gato en el diccionario debe ser igual que en su vector de etiquetas'"
   ]
  },
  {
   "cell_type": "code",
   "execution_count": null,
   "metadata": {},
   "outputs": [],
   "source": [
    "model=NN_classifier(parches_entrenamiento)\n",
    "model.fit(imagenes_gato_train,etiqueta_gato)\n",
    "model.fit(imagenes_perro_train,etiqueta_perro)\n",
    "model.fit(imagenes_elefante_train,etiqueta_elefante)\n",
    "model.fit(imagenes_oveja_train,etiqueta_oveja)\n",
    "model.fit(imagenes_caballo_train,etiqueta_caballo)"
   ]
  },
  {
   "cell_type": "code",
   "execution_count": null,
   "metadata": {},
   "outputs": [],
   "source": [
    "assert len(model.vectores)==len(imagenes_gato_train)+len(imagenes_perro_train)+len(imagenes_elefante_train)+len(imagenes_oveja_train)+len(imagenes_caballo_train), 'La cantidad de imagenes de entrnamiento y los vectores de entrenamiento no coinsiden'\n",
    "assert len(model.etiquetas)==len(model.vectores),'La cantidad de vectores y la cantidad de etiquetas no coinsiden'\n",
    "assert len(model.vectores[0])==150, f'Las dimensiones del descriptor deben ser 150 y son {len(model.vectores[0])}'"
   ]
  },
  {
   "cell_type": "code",
   "execution_count": null,
   "metadata": {},
   "outputs": [],
   "source": [
    "im=imgs_gato_train[0]\n",
    "prediccion=model.predict([im])"
   ]
  },
  {
   "cell_type": "code",
   "execution_count": null,
   "metadata": {},
   "outputs": [],
   "source": [
    "assert len(prediccion) ==1, 'Solo deberia haber una unica predicción para una unica imagen'\n",
    "assert prediccion[0] in dict_etiquetas.values(), 'La predicción no se encuentra en el diccionario de etiquetas'"
   ]
  },
  {
   "cell_type": "markdown",
   "metadata": {},
   "source": [
    "### Parte 4: Validación y test\n",
    "Ya tenemos un modelo entrenado con las imagenes de entrenamiento, es hora de probar nuestro modelo en la base de datos de validación y test. Utilice la siguiente celda para cargar las imagenes de validacion y test y realizar la predicción. Luego, saque las metricas pertinentes, puede usar las funciones de sklearn."
   ]
  },
  {
   "cell_type": "code",
   "execution_count": null,
   "metadata": {},
   "outputs": [],
   "source": []
  },
  {
   "cell_type": "markdown",
   "metadata": {},
   "source": [
    "## Informe\n",
    "En esta ocasión, iremos construyendo nuestro informe con cada entrega, el maximo de paginas de cada entrega será de 2. \n",
    "\n",
    "### Introducción:\n",
    "Inicialmente, es fundamental conocer el contexto del problema para así plantear de manera correcta el proyecto. Debido a esto, basados tanto en la descripción del problema que tienen disponible como otros artículos que pueden encontrar en internet, deben incluir en esta primera entrega de su Artículo el contexto del problema, la motivación para resolverlo, la definición del problema y justificar la relevancia de este. Para hacer esta sección pueden guiarse de las siguientes preguntas:\n",
    "\n",
    ">- ¿Qué problema se va a trabajar?\n",
    ">- ¿Por qué es importante trabajar esta problemática?\n",
    ">- ¿Qué indicadores suelen usarse para hacer esta tarea de forma manual?\n",
    ">- ¿Qué problemas pueden encontrarse? \n",
    ">- ¿Qué ejemplos se pueden encontrar de estos problemas?\n",
    ">- ¿Por qué es necesario usar análisis de imágenes para resolver esta tarea?\n",
    ">- ¿Cual es su objetivo?\n",
    "\n",
    "\n",
    "### Base de datos:\n",
    "Ahora que se tiene ya el contexto y el trabajo relacionado es momento de empezar a describir el trabajo que se está realizando actualmente. Para esto, en la subsección de base de datos deben realizar una descripción completa de la base de datos con todos sus elementos importantes. Al ser esta una base de datos completamente nueva es necesario hacer una descripción mas a fondo de esta, incluyendo su cantidad de datos distribución y demás elementos. Para esta sección pueden apoyarse en las siguientes preguntas para agregar su contenido:\n",
    "\n",
    ">- ¿Cuales clases hay en su base de datos?\n",
    ">- ¿Como son sus imagenes?\n",
    ">- ¿Como se distribuyen sus carpetas de entrenamiento, validación y prueba?\n",
    ">- ¿Cuantas instancias hay de cada una de las clases?"
   ]
  }
 ],
 "metadata": {
  "kernelspec": {
   "display_name": "Python 3.7.7 64-bit",
   "language": "python",
   "name": "python3"
  },
  "language_info": {
   "codemirror_mode": {
    "name": "ipython",
    "version": 3
   },
   "file_extension": ".py",
   "mimetype": "text/x-python",
   "name": "python",
   "nbconvert_exporter": "python",
   "pygments_lexer": "ipython3",
   "version": "3.7.7"
  },
  "orig_nbformat": 4,
  "vscode": {
   "interpreter": {
    "hash": "8fa13260b2ad5da8a92d4362f230c03eee7b3dfd5b47a73cfd4853277a201fcb"
   }
  }
 },
 "nbformat": 4,
 "nbformat_minor": 2
}
