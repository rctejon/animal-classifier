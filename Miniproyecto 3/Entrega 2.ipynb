{
 "cells": [
  {
   "cell_type": "markdown",
   "id": "4de7b1f4",
   "metadata": {
    "deletable": false,
    "editable": false,
    "nbgrader": {
     "cell_type": "markdown",
     "checksum": "2d2f7955c826683c3d852b3e886dd0a7",
     "grade": false,
     "grade_id": "cell-75372dba94786512",
     "locked": true,
     "schema_version": 3,
     "solution": false,
     "task": false
    }
   },
   "source": [
    "# Entrega 2\n",
    "La entrega pasada nos enfocamos en realizar una primera aproximación. Ahora, a no ser que se trabaje con Deep Learning, para hacer un trabajo de clasificación, es necesario tener 2 elementos principales: \n",
    ">un descriptor \\\n",
    ">un clasificador\n",
    "\n",
    "El primero, tal como su nombre lo indica, es el que nos va a permitir describir la imagen, es decir expresar sus características de forma cuantitativa para poder tomar decisiones sobre esta, ese es el vector de TM que hicimos en la entrega pasada. El segundo, cuyo nombre también nos da una pista de su utilidad, sirve para tomar las características que nos da el descriptor y poder asignar clases a las imágenes basándonos en estas. En esta entrega nos enfocaremos en la realización de los descriptores de patrones visuales que hemos visto en la magistral usando como clasificador el vecino mas cercano que hicimos el laboratorio pasado.\n",
    "\n",
    "## Parte 1: Modificaciones al vecino mas cercano\n",
    "Lo primero que vamos a hacer será modificar nuestra clase del vecino mas cercano que hicimos la entrega pasada. Esto es debido a que en la entrega pasada en el interior de la funcion tanto de entrenamiento como de predicción se calculaban los descriptores. Sin embargo haremos unas modificaciones a este metodo con el fin de que no se tengan que calcular los descriptores cada vez que se quiera clasificar. \n",
    "> **Nota**: los cambios que tienen que hacer a sus codigos son minimos, unicamente es eliminar la linea que calculaba el descriptor y asumir que X es directamente el descriptor\n"
   ]
  },
  {
   "cell_type": "code",
   "execution_count": 2,
   "id": "4c964537",
   "metadata": {
    "deletable": false,
    "nbgrader": {
     "cell_type": "code",
     "checksum": "e4ea688803652c037c1f50b0a175d8c1",
     "grade": false,
     "grade_id": "cell-25b8e7de9fa3382a",
     "locked": false,
     "schema_version": 3,
     "solution": true,
     "task": false
    }
   },
   "outputs": [],
   "source": [
    "import numpy as np\n",
    "import scipy.io as sc\n",
    "from skimage.color import rgb2gray\n",
    "from skimage.feature import match_template\n",
    "import cv2\n",
    "import glob\n",
    "import os\n",
    "import sklearn\n",
    "import matplotlib.pyplot as plt\n",
    "import pickle\n",
    "from skimage import color\n",
    "\n",
    "\n",
    "\n",
    "\n",
    "\n",
    "\n"
   ]
  },
  {
   "cell_type": "code",
   "execution_count": 3,
   "id": "9390760f",
   "metadata": {},
   "outputs": [],
   "source": [
    "\n",
    "\n",
    "import numpy as np\n",
    "class NN_classifier:\n",
    "    def __init__(self,descriptor):\n",
    "        '''\n",
    "        :param descriptor (dict): Diccionario de templates de entrenamiento.\n",
    "        '''\n",
    "        self.vectores= [] #atributo del vector de descriptores de entrenamiento\n",
    "        self.etiquetas=[] #atributo del vector de etiquetas\n",
    "        \n",
    "    def fit(self,X,y):\n",
    "        '''\n",
    "        :param X: Imagenes de entrenamiento\n",
    "        :param y: Labels de las imagenes\n",
    "        :return: self (Trained descriptor)\n",
    "        '''\n",
    "        # YOUR CODE HERE\n",
    "        for i in range(len(X)):\n",
    "            self.etiquetas.append(y[i])\n",
    "            self.vectores.append(X[i])\n",
    "        return self\n",
    "    \n",
    "    def predict(self,X):\n",
    "        '''\n",
    "        :param X (array): Imagenes a predecir\n",
    "        :return: Arreglo de etiquetas predichas\n",
    "        '''\n",
    "        distancias =[]\n",
    "        for i in self.vectores:\n",
    "            distancias.append(np.linalg.norm(np.array(X)-np.array(i)))\n",
    "        dist_menor = np.where(np.min(distancias))\n",
    "        etiqueta = self.etiquetas[dist_menor]\n",
    "            \n",
    "        # YOUR CODE HERE\n",
    "        return etiqueta\n"
   ]
  },
  {
   "cell_type": "markdown",
   "id": "63dfbfce",
   "metadata": {
    "deletable": false,
    "editable": false,
    "nbgrader": {
     "cell_type": "markdown",
     "checksum": "8e17f5eeae23f5811dcb6f617c17c72b",
     "grade": false,
     "grade_id": "cell-a03a7f62022cc1",
     "locked": true,
     "schema_version": 3,
     "solution": false,
     "task": false
    }
   },
   "source": [
    "## Parte 2: Textura\n",
    "Una de las formas en las que se puede hacer una descripción de la textura de una imagen es mediante el histograma de textones, el cual es una forma de cuantificar la presencia de las textura existentes. Para esto, debemos implementar una función que calcule dicho histograma utilizando un diccionario de textones. Por lo anterior, implementaremos tres funciones auxiliares que nos permitirán obtener sus descriptores de textura. Estas funciones deben realizarlas para poder calcular la respuesta a los filtros, calcular el diccionario de textones y calcular el histograma de textones.\n",
    "\n",
    "Primeramente vamos a sacar los filtros de interes, los cuales están en el archivo filterbank.mat\n"
   ]
  },
  {
   "cell_type": "code",
   "execution_count": 4,
   "id": "ed905a83",
   "metadata": {
    "deletable": false,
    "nbgrader": {
     "cell_type": "code",
     "checksum": "a178e9ac86b345e17b58bb589e21cdef",
     "grade": false,
     "grade_id": "cell-ac1e025aa0c5be43",
     "locked": false,
     "schema_version": 3,
     "solution": true,
     "task": false
    }
   },
   "outputs": [],
   "source": [
    "str_FileName = \"filterbank.mat\"\n",
    "st_File = sc.loadmat(str_FileName)\n",
    "\n",
    "filterbank = st_File[\"filterbank\"] #Variable que contendrá los filtros para realizar los textones\n",
    "image =  cv2.resize(cv2.imread(glob.glob(os.path.join('Dataset', 'train', 'Oveja', '*.jpeg'))[0]),(300,300),interpolation=cv2.INTER_AREA) #Variable que contendrá una imagen a color para probar las funciones\n",
    "# YOUR CODE HERE\n"
   ]
  },
  {
   "cell_type": "code",
   "execution_count": 5,
   "id": "1e7ea769",
   "metadata": {
    "deletable": false,
    "editable": false,
    "nbgrader": {
     "cell_type": "code",
     "checksum": "f17ab407c373b8d6dba4b1cd120b755e",
     "grade": true,
     "grade_id": "cell-ef968a6d21127fdd",
     "locked": true,
     "points": 0.1,
     "schema_version": 3,
     "solution": false,
     "task": false
    }
   },
   "outputs": [
    {
     "name": "stdout",
     "output_type": "stream",
     "text": [
      "la forma del banco de filtros es: (49, 49, 18)\n"
     ]
    }
   ],
   "source": [
    "import numpy as np\n",
    "assert not type(filterbank) == dict, f'su banco debería ser una matriz, no un diccionario, revise los elementos y busque el de interes'\n",
    "print(f'la forma del banco de filtros es: {filterbank.shape}')\n",
    "assert filterbank.shape == (49,49,18), f'su banco de filtros debería ser de tamaño (49,49,18), no {filterbank.shape}'"
   ]
  },
  {
   "cell_type": "markdown",
   "id": "b786f4a3",
   "metadata": {
    "deletable": false,
    "editable": false,
    "nbgrader": {
     "cell_type": "markdown",
     "checksum": "020e74ee4f92f0d0a6b59a54ee51291c",
     "grade": false,
     "grade_id": "cell-a03a7f62022cc1aa",
     "locked": true,
     "schema_version": 3,
     "solution": false,
     "task": false
    }
   },
   "source": [
    "### 2.1 calcular la respuesta a los filtros\n",
    "Esta primera función tiene como propósito hacer el cálculo de las respuestas a los filtros. Como podrán recordar de lo visto en la magistral, el primer paso para obtener sus textones, así como el mapa de textones de una imagen, es calcular la respuesta de la imagen en escala de grises a cada uno de los filtros que se encuentren en el banco. Finalmente, deben almacenar la respuesta a los filtros de cada uno de los píxeles de la imagen. \n",
    "> **Nota**: recuerde que el procedimiento debe ser hecho en escala de grises. Además, vamos a querer que cada pixel sea un dato, por lo que no usaremos una matriz de descriptores sino una lista de ellos."
   ]
  },
  {
   "cell_type": "code",
   "execution_count": 6,
   "id": "e951e54e",
   "metadata": {
    "deletable": false,
    "nbgrader": {
     "cell_type": "code",
     "checksum": "5915341ccd8fc18c46291a619dff71e1",
     "grade": false,
     "grade_id": "cell-aabff9e04b2e4b36",
     "locked": false,
     "schema_version": 3,
     "solution": true,
     "task": false
    }
   },
   "outputs": [],
   "source": [
    "from scipy import signal\n",
    "import tqdm\n",
    "def calculate_filter_response(img,filters):\n",
    "    '''\n",
    "    :param img: imagen a color de la cual se va a calcular la respuesta a los filtros\n",
    "    :param filters: filtros que serán usados\n",
    "    '''\n",
    "    imgris = rgb2gray(img)\n",
    "    tamano=list(imgris.shape)\n",
    "    tamano.append(18)\n",
    "    cubo=np.zeros(tuple(tamano))\n",
    "    for i in range(filters.shape[2]):\n",
    "        cubo[:,:,i]=signal.correlate2d(imgris,filters[i],mode=\"same\")\n",
    "    lista=[]\n",
    "    for i in range(cubo.shape[0]):\n",
    "        for j in range(cubo.shape[1]):\n",
    "            listaActual=[]\n",
    "            for k in range(cubo.shape[2]):\n",
    "                listaActual.append(cubo[i,j,k])\n",
    "            lista.append(listaActual)\n",
    "    lista=np.array(lista)\n",
    "    return lista\n",
    "        \n",
    "    # hacer un cubo de ancho por largo *18\n",
    "    # aplicar filtro a cada dimension y reemplazar\n",
    "    # sacar cada pixel e insertarlo a lista.\n",
    "    #no usar template matching\n",
    "    \n",
    "\n",
    "    \n",
    "   "
   ]
  },
  {
   "cell_type": "code",
   "execution_count": 7,
   "id": "efbbfa8b",
   "metadata": {
    "deletable": false,
    "editable": false,
    "nbgrader": {
     "cell_type": "code",
     "checksum": "47fec41b17fab17f3347f4bad317308f",
     "grade": true,
     "grade_id": "cell-4252fd21b88111d3",
     "locked": true,
     "points": 0.3,
     "schema_version": 3,
     "solution": false,
     "task": false
    }
   },
   "outputs": [],
   "source": [
    "pixel_response = calculate_filter_response(image,filterbank)\n",
    "assert len(pixel_response.shape) == 2, f'la respuesta al filtro deberia tener 2 dimensiones, no {len(pixel_response.shape)}'\n",
    "assert pixel_response.shape == (image.shape[0]*image.shape[1],18),f'la respuesta debería ser de tamaño {(image.shape[0]*image.shape[1],18)} no {pixel_response.shape}'"
   ]
  },
  {
   "cell_type": "markdown",
   "id": "e2f5c0ae",
   "metadata": {
    "deletable": false,
    "editable": false,
    "nbgrader": {
     "cell_type": "markdown",
     "checksum": "cd595c1cd9cb6c601ae3e070c8500b4e",
     "grade": false,
     "grade_id": "cell-840e6e151cbbd675",
     "locked": true,
     "schema_version": 3,
     "solution": false,
     "task": false
    }
   },
   "source": [
    "### 2.2 Calcular el diccionario de textones\n",
    "Esta segunda función tiene como propósito construir un diccionario de textones. Esta deberá recibir por parámetro el arreglo de píxeles descritos por sus respuestas a los filtros (en las imágenes de entrenamiento). Luego, haciendo uso de un algoritmo de clusterización (comúnmente k-means), agruparlos en lo que serán \"tipos de textura\". Por último, los centroides de los clusters de textura generados, los cuales serán nuestros textones, deberán ser retornados."
   ]
  },
  {
   "cell_type": "code",
   "execution_count": 8,
   "id": "144594a9",
   "metadata": {
    "deletable": false,
    "nbgrader": {
     "cell_type": "code",
     "checksum": "6f2d7da8593ff2c77d6b4a33cec36577",
     "grade": false,
     "grade_id": "cell-52167af5ed2da1ff",
     "locked": false,
     "schema_version": 3,
     "solution": true,
     "task": false
    }
   },
   "outputs": [],
   "source": [
    "from sklearn.cluster import KMeans\n",
    "def calculate_texton_dictionary(pixels,n_textons):\n",
    "    '''\n",
    "    :param img:\n",
    "    :param filters:\n",
    "    '''\n",
    "    \n",
    "    centroids = KMeans(n_clusters=n_textons).fit(pixels)\n",
    "        \n",
    "    return centroids # este debe el modelo KMeans"
   ]
  },
  {
   "cell_type": "code",
   "execution_count": 9,
   "id": "bd4547eb",
   "metadata": {
    "deletable": false,
    "editable": false,
    "nbgrader": {
     "cell_type": "code",
     "checksum": "170dc1e06605f6f9a4f1e59de6093946",
     "grade": true,
     "grade_id": "cell-28aee991d64bd81d",
     "locked": true,
     "points": 0.3,
     "schema_version": 3,
     "solution": false,
     "task": false
    }
   },
   "outputs": [],
   "source": [
    "texton_dictionary = calculate_texton_dictionary(pixel_response,10)\n",
    "try:\n",
    "    texton_dictionary.n_features_in_\n",
    "except:\n",
    "    assert False,f'Su modelo no fue entrenado'\n",
    "assert texton_dictionary.n_features_in_ == 18,f'su modelo tiene un espacio de {texton_dictionary.n_features_in_} dimensiones, no 18 como debería'\n",
    "assert len(texton_dictionary.labels_)==image.shape[0]*image.shape[1],f'su modelo tiene {len(texton_dictionary.labels_)} puntos, no {image.shape[0]*image.shape[1]}'\n",
    "assert len(texton_dictionary.cluster_centers_)==10,f'su modelo KMeans fue entrenado con {len(texton_dictionary.cluster_centers_)} clusters, no 10'"
   ]
  },
  {
   "cell_type": "markdown",
   "id": "21137125",
   "metadata": {
    "deletable": false,
    "editable": false,
    "nbgrader": {
     "cell_type": "markdown",
     "checksum": "1b61da1a53375221d04389f55502dc05",
     "grade": false,
     "grade_id": "cell-03cfeebbfdfe2cfe",
     "locked": true,
     "schema_version": 3,
     "solution": false,
     "task": false
    }
   },
   "source": [
    "### 2.3 Calular histograma de textones\n",
    "Esta última función generará el mapa de textones de una imagen, en base al cual obtendrán como respuesta el histograma de textones asociado. Esta deberá recibir por parámetro el arreglo de píxeles de la imagen a describir (la respuestas a los filtros) y asociar cada píxel a la etiqueta del centroide (textón) del cluster correspondiente, para finalmente construir y retornar el histograma de textones.\n",
    "> **nota**: recuerde normalizar el histograma. Y recuerde que aqui tiene un numero finito de valores completos, por lo que debe tener un bin por cada valor"
   ]
  },
  {
   "cell_type": "code",
   "execution_count": 10,
   "id": "4b28c531",
   "metadata": {
    "deletable": false,
    "nbgrader": {
     "cell_type": "code",
     "checksum": "bdb860b4e75aec0c41ab94a0c1bfe14d",
     "grade": false,
     "grade_id": "cell-6b0dea1c029f476a",
     "locked": false,
     "schema_version": 3,
     "solution": true,
     "task": false
    }
   },
   "outputs": [],
   "source": [
    "\n",
    "def img_as_float(img):\n",
    "\n",
    "    imagen = img.astype(float)\n",
    "\n",
    "    return imagen\n",
    "def calculate_texton_histogram(pixels,textons):\n",
    "    '''\n",
    "    :param pixels: Array de respuesta a los filtros de la imagen \n",
    "    :param texton_dictionary: diccionario de textones(Modelo KMeans)\n",
    "    '''\n",
    "    etiquetas=textons.predict(pixels)\n",
    "    histograma=plt.hist(etiquetas,bins=10)\n",
    "    var1 = ((histograma[0])/(sum(histograma[0])))\n",
    "    \n",
    "    #var2 = histograma[1]\n",
    "    \n",
    "    return var1"
   ]
  },
  {
   "cell_type": "code",
   "execution_count": 11,
   "id": "bfeacef6",
   "metadata": {
    "deletable": false,
    "editable": false,
    "nbgrader": {
     "cell_type": "code",
     "checksum": "2a029bf89ae039a4eb39e943ccf61ed1",
     "grade": true,
     "grade_id": "cell-17700f298b97879b",
     "locked": true,
     "points": 0.3,
     "schema_version": 3,
     "solution": false,
     "task": false
    }
   },
   "outputs": [
    {
     "data": {
      "image/png": "[encoded data removed]",
      "text/plain": [
       "<Figure size 640x480 with 1 Axes>"
      ]
     },
     "metadata": {},
     "output_type": "display_data"
    }
   ],
   "source": [
    "demo_hist = calculate_texton_histogram(pixel_response,texton_dictionary)\n",
    "assert len(demo_hist)==10, f'el histograma debería tener 10 bins, uno por centroide, no {len(demo_hist)}'\n",
    "assert np.isclose(np.sum(demo_hist),1,0.05), f'la suma del histogtama debería ser 1, no {np.sum(demo_hist)}'"
   ]
  },
  {
   "cell_type": "markdown",
   "id": "53551715",
   "metadata": {
    "deletable": false,
    "editable": false,
    "nbgrader": {
     "cell_type": "markdown",
     "checksum": "3d105c6a69ed194cdc6ebcedcf45379f",
     "grade": false,
     "grade_id": "cell-0968d9fe78d44b52",
     "locked": true,
     "schema_version": 3,
     "solution": false,
     "task": false
    }
   },
   "source": [
    "Este es el unico descriptor que tendremos que entrenar, ya que los demás no dependen sino de las caracteristicas propias de la imagen. Por ello deben recalcular el diccionario de textones usando almenos 1 imagen de cada clase. "
   ]
  },
  {
   "cell_type": "code",
   "execution_count": 12,
   "id": "a3eb4c87",
   "metadata": {
    "deletable": false,
    "editable": false,
    "nbgrader": {
     "cell_type": "code",
     "checksum": "88820a27b4ec491f6a5b7d0bbb9115f4",
     "grade": false,
     "grade_id": "cell-a23b8ddc13daf8a8",
     "locked": true,
     "schema_version": 3,
     "solution": false,
     "task": false
    }
   },
   "outputs": [],
   "source": [
    "imagenCaballo =  cv2.resize(cv2.imread(glob.glob(os.path.join('Dataset', 'train', 'Caballo', '*.jpeg'))[0]),(300,300),interpolation=cv2.INTER_AREA)\n",
    "imagenElefante =  cv2.resize(cv2.imread(glob.glob(os.path.join('Dataset', 'train', 'Elefante', '*.jpeg'))[0]),(300,300),interpolation=cv2.INTER_AREA)\n",
    "imagenGato =  cv2.resize(cv2.imread(glob.glob(os.path.join('Dataset', 'train', 'Gato', '*.jpeg'))[0]),(300,300),interpolation=cv2.INTER_AREA)\n",
    "imagenPerro =  cv2.resize(cv2.imread(glob.glob(os.path.join('Dataset', 'train', 'Perro', '*.jpeg'))[0]),(300,300),interpolation=cv2.INTER_AREA)\n",
    "imagenOveja =  cv2.resize(cv2.imread(glob.glob(os.path.join('Dataset', 'train', 'Oveja', '*.jpeg'))[0]),(300,300),interpolation=cv2.INTER_AREA)\n",
    "\n",
    "\n",
    "animales = np.concatenate((imagenCaballo,imagenElefante,imagenGato,imagenPerro,imagenOveja),axis=0)\n",
    "texton_dictionary = calculate_texton_dictionary(calculate_filter_response(animales,filterbank),10)\n"
   ]
  },
  {
   "cell_type": "markdown",
   "id": "11fba23c",
   "metadata": {},
   "source": [
    "### 2.4 Funcion de calculo de descriptores \n",
    "Como ya fue mencionado, haciendo uso de las funciones previamente mencionadas y el/los diccionarios de textones que han generado y almacenado, deberán construir una función que genere el descriptor de textura. Un punto importante que deben tener en cuenta es que usarán esta función no solo para calcular los descriptores, sino para almacenarlos. La razón de esto es que los descriptores en algunos casos pueden tardar un tiempo considerable en ser calculados. Debido a lo anterior, sería computacionalmente costoso y tomaría tiempo en exceso hacer el cálculo de los descriptores en cada una de las entregas. El archivo que deben almacenar debe contener dos listas las cuáles tengan posiciones correspondientes entre ellas, una con la información de los descriptores (uno por imagen) y la otra con la anotación correspondiente. La función debe tener la siguiente estructura:"
   ]
  },
  {
   "cell_type": "code",
   "execution_count": 53,
   "id": "ccf7aa5e",
   "metadata": {
    "deletable": false,
    "nbgrader": {
     "cell_type": "code",
     "checksum": "2883ccb257977b7563673b3d9467d17a",
     "grade": false,
     "grade_id": "cell-ee86f35b0ee122b8",
     "locked": false,
     "schema_version": 3,
     "solution": true,
     "task": false
    }
   },
   "outputs": [],
   "source": [
    "\n",
    "\n",
    "\n",
    "def texture(images, labels, route, textons):\n",
    "    '''\n",
    "    :param images: Imágenes de la cuales se calculará el descriptor.\n",
    "    :param labels: Etiquetas de las imágenes.\n",
    "    :param route: Ruta donde serán guardados los descriptores junto con las etiquetas.\n",
    "    :param textons: Diccionario de textones o ruta al archivo que lo contiene.\n",
    "    :return features: Arreglo de etiquetas predichas con los descriptores de las imágenes (el mismo que se almacenará en route)\n",
    "    '''\n",
    "    features=[]\n",
    "    label=[]\n",
    "    histogramas=[]\n",
    "    for i in range(len(images)):\n",
    "        respuesta=calculate_filter_response(img_as_float(images[i]),filterbank)\n",
    "        histograma=calculate_texton_histogram(respuesta, textons)\n",
    "        histogramas.append(histograma)\n",
    "        features.append([histograma,labels[i]])\n",
    "        features[i].append(np.array([histograma,labels[i]],dtype=object))\n",
    "\n",
    "    fe={\"descriptor\":histograma,\"labels\":label}\n",
    "    fHdl=open(route,\"w\")\n",
    "    fHdl.write(str(fe))\n",
    "    fHdl.close\n",
    "    return np.array(histogramas)"
   ]
  },
  {
   "cell_type": "code",
   "execution_count": 54,
   "id": "8fdee788",
   "metadata": {
    "deletable": false,
    "nbgrader": {
     "cell_type": "code",
     "checksum": "ac6b340755893a4dbb5a6a301b6b21aa",
     "grade": false,
     "grade_id": "cell-5f0e59b1092e44dd",
     "locked": false,
     "schema_version": 3,
     "solution": true,
     "task": false
    }
   },
   "outputs": [],
   "source": [
    "imgs_elefante_train = [cv2.resize(cv2.imread(i),(300,300),interpolation=cv2.INTER_AREA) for i in glob.glob(os.path.join('Dataset', 'train', 'Elefante', '*.jpeg'))]\n",
    "imgs_caballo_train = [cv2.resize(cv2.imread(i),(300,300),interpolation=cv2.INTER_AREA) for i in glob.glob(os.path.join('Dataset', 'train', 'Caballo', '*.jpeg'))]\n",
    "imgs_gato_train = [cv2.resize(cv2.imread(i),(300,300),interpolation=cv2.INTER_AREA) for i in glob.glob(os.path.join('Dataset', 'train', 'Gato', '*.jpeg'))] \n",
    "imgs_oveja_train = [cv2.resize(cv2.imread(i),(300,300),interpolation=cv2.INTER_AREA) for i in glob.glob(os.path.join('Dataset', 'train', 'Oveja', '*.jpeg'))]\n",
    "imgs_perro_train = [cv2.resize(cv2.imread(i),(300,300),interpolation=cv2.INTER_AREA) for i in glob.glob(os.path.join('Dataset', 'train', 'Perro', '*.jpeg'))]\n",
    "\n",
    "train_images= np.concatenate((imgs_elefante_train[:25],imgs_caballo_train[:25],imgs_gato_train[:25],imgs_oveja_train[:25],imgs_perro_train[:25])) #vector de imagenes de entrenamiento\n",
    "train_annots = 25*[\"elefante\"]+25*[\"caballo\"]+25*[\"gato\"]+25*[\"oveja\"]+25*[\"perro\"] #vector de anotaciones de entrenamiento\n",
    "train_texture_route = \"features.txt\" #ruta donde quieren guardar sus descriptores y labels\n"
   ]
  },
  {
   "cell_type": "code",
   "execution_count": 55,
   "id": "12fb080f",
   "metadata": {
    "deletable": false,
    "editable": false,
    "nbgrader": {
     "cell_type": "code",
     "checksum": "41df0652b0f9cccf87106ab744baa0b9",
     "grade": true,
     "grade_id": "cell-6e4171c1bd588d65",
     "locked": true,
     "points": 0.5,
     "schema_version": 3,
     "solution": false,
     "task": false
    }
   },
   "outputs": [
    {
     "data": {
      "image/png": "[encoded data removed]",
      "text/plain": [
       "<Figure size 640x480 with 1 Axes>"
      ]
     },
     "metadata": {},
     "output_type": "display_data"
    }
   ],
   "source": [
    "import os\n",
    "texture_desc = texture(train_images,train_annots,train_texture_route,texton_dictionary)\n",
    "assert len(texture_desc.shape) == 2 ,f'Su vector de descriptores debe tener 2 dimensiones, no {len(texture_desc.shape)}'\n",
    "assert texture_desc.shape[0] == len(train_images),f'no existe un decriptor por imagen, hay {texture_desc.shape[0]} descriptores y {len(train_images)} imagenes'\n",
    "assert not np.isclose(np.std(texture_desc),0,0.001),f'su funcion retorna descriptores similares o identicos'\n",
    "assert os.path.isfile(train_texture_route),'no se está guardando el archivo'\n",
    "\n",
    "assert texture_desc.shape[1] ==10,f'su modelo KMeans fue entrenado con {len(texton_dictionary.cluster_centers_)} clusters, no 10'"
   ]
  },
  {
   "cell_type": "markdown",
   "id": "d6150ef9",
   "metadata": {
    "deletable": false,
    "editable": false,
    "nbgrader": {
     "cell_type": "markdown",
     "checksum": "fc6868c521c0fa19e51532358059242d",
     "grade": false,
     "grade_id": "cell-ce9a53fa7aeec0b1",
     "locked": true,
     "schema_version": 3,
     "solution": false,
     "task": false
    }
   },
   "source": [
    "## Parte 3: Color\n",
    "Lo primero que se debe realizar, como ya se dijo, es el descriptor mediante el cual vamos a representar una imagen en un vector. En esta entrega se trabajará únicamente con descriptores basados en color. Estos, se basan en representar la imagen según los diferentes colores que la compongan mediante el uso de histogramas, ya que pretende caracterizar la frecuencia de cada una de las intensidades de los colores.\n",
    "\n",
    "Este descriptor de histogramas de color será el primero que usaremos. La función debe tener la capacidad de calcular tanto histogramas de color conjuntos como histogramas de color concatenados los cuáles pueden obtenerlos utilizando las funciones ```CatColorHistogram``` y ```JointColorHistogram``` que se encuentran a continuación. Además, debe poder utilizar diferentes canales de color como ```rgb```, ```hsv``` y ```lab```. "
   ]
  },
  {
   "cell_type": "code",
   "execution_count": 56,
   "id": "51944308",
   "metadata": {
    "deletable": false,
    "editable": false,
    "nbgrader": {
     "cell_type": "code",
     "checksum": "636c09924c8162f1207453e886fb85c4",
     "grade": false,
     "grade_id": "cell-1e2cf39b8f0cca51",
     "locked": true,
     "schema_version": 3,
     "solution": false,
     "task": false
    }
   },
   "outputs": [],
   "source": [
    "# Functions for color histograms\n",
    "\n",
    "\n",
    "\n",
    "\n",
    "def CatColorHistogram(img, num_bins, min_val=None, max_val=None):\n",
    "    \"\"\"\n",
    "    Calculate concatenated histogram for color images\n",
    "    By: Natalia Valderrama built on Maria Fernanda Roa's code\n",
    "    \n",
    "    Arguments: img (numpy.array) -- 2D color image\n",
    "    num_bins (array like of ints) -- Number of bins per channel.\n",
    "    If an int is given, all channels will have same amount of bins.\n",
    "\n",
    "    Keyword Arguments:\n",
    "    min_val (array like of ints) -- Minimum intensity range value per channel\n",
    "    If an int is given, all channels will have same minimum. (default: {None})\n",
    "    max_val (array like of ints) -- Maximum intensity range value per channel\n",
    "    If an int is given, all channels will have same maximum. (default: {None})\n",
    "\n",
    "    Returns: [numpy.array] -- Array containing concatenated color histogram of size num_bins*3.\n",
    "    \"\"\"\n",
    "    assert len(img.shape) == 3, 'img must be a color 2D image'\n",
    "\n",
    "    #Transform image to float dtype\n",
    "    img = img_as_float(img)\n",
    "    _, _, n_channels = img.shape\n",
    "\n",
    "    #Verify input parameters\n",
    "    assert isinstance(num_bins, (int, tuple, list, np.array)),'num_bins must be int or array like'\n",
    "\n",
    "    if isinstance(num_bins, int):\n",
    "        num_bins = np.array([num_bins]*n_channels)\n",
    "    else:\n",
    "        num_bins = np.array(num_bins)\n",
    "\n",
    "    assert len(num_bins) == n_channels,'num_bins length and number of channels differ'\n",
    " \n",
    "    if min_val is None:\n",
    "        min_val = np.min(img, (0,1))\n",
    "    else:\n",
    "        assert isinstance(min_val, (int, tuple, list, np.array)),'min_val must be int or array like'\n",
    "        if isinstance(min_val, int):\n",
    "            min_val = np.array([min_val]*n_channels)\n",
    "        else:\n",
    "            min_val = np.array(min_val)\n",
    "\n",
    "    assert len(min_val) == n_channels,'min_val length and number of channels differ'\n",
    "    \n",
    "    min_val = min_val.reshape((1, 1, -1))\n",
    "\n",
    "    if max_val is None:\n",
    "        max_val = np.max(img, (0,1))\n",
    "    else:\n",
    "        assert isinstance(max_val, (int, tuple, list, np.array)),'max_val must be int or array like'\n",
    "        if isinstance(max_val, int):\n",
    "            max_val = np.array([max_val]*n_channels)\n",
    "        else:\n",
    "            max_val = np.array(max_val)\n",
    "\n",
    "    assert len(max_val) == n_channels,'max_val length and number of channels differ'\n",
    "    max_val = max_val.reshape((1, 1, -1)) + 1e-5\n",
    "    concat_hist = np.zeros(np.sum(num_bins), dtype=np.int)\n",
    "    # Scale intensities (intensities are scaled within the range for each channel)\n",
    "    # Values now are between 0 and 1\n",
    "    img = (img - min_val) / (max_val - min_val)\n",
    "    sum_value = 0\n",
    "\n",
    "    for c in range(n_channels):\n",
    "        # Calculate index matrix for each channel\n",
    "\n",
    "        idx_matrix = np.floor(img[...,c]*num_bins[c]).astype('int')\n",
    "        idx_matrix = idx_matrix.flatten() + sum_value\n",
    "        sum_value += num_bins[c]\n",
    "        \n",
    "        #Create concatenated histogram\n",
    "        for p in range(len(idx_matrix)):\n",
    "            concat_hist[idx_matrix[p]] += 1\n",
    "    \n",
    "    return concat_hist/np.sum(concat_hist)\n",
    "\n",
    "def JointColorHistogram(img, num_bins, min_val=None, max_val=None):\n",
    "    \"\"\"\n",
    "    Calculate joint histogram for color images\n",
    "    By: Maria Fernanda Roa\n",
    "\n",
    "    Arguments: img (numpy.array) -- 2D color image\n",
    "    num_bins (array like of ints) -- Number of bins per channel.\n",
    "    If an int is given, all channels will have same amount of bins.\n",
    "\n",
    "    Keyword Arguments:\n",
    "    min_val (array like of ints) -- Minimum intensity range value per channel\n",
    "    If an int is given, all channels will have same minimum. (default: {None})\n",
    "    max_val (array like of ints) -- Maximum intensity range value per channel\n",
    "    If an int is given, all channels will have same maximum. (default: {None})\n",
    "\n",
    "    Returns: [numpy.array] -- Array containing joint color histogram of size num_bins.\n",
    "    \"\"\"\n",
    "\n",
    "    assert len(img.shape) == 3, 'img must be a color 2D image'\n",
    "\n",
    "    #Transform image to float dtype\n",
    "    img = img_as_float(img)\n",
    "    _, _, n_channels = img.shape\n",
    "\n",
    "    #Verify input parameters\n",
    "    assert isinstance(num_bins, (int, tuple, list, np.array)),'num_bins must be int or array like'\n",
    "\n",
    "    if isinstance(num_bins, int):\n",
    "        num_bins = np.array([num_bins]*n_channels)\n",
    "    else:\n",
    "        num_bins = np.array(num_bins)\n",
    "\n",
    "    assert len(num_bins) == n_channels,'num_bins length and number of channels differ'\n",
    " \n",
    "    if min_val is None:\n",
    "        min_val = np.min(img, (0,1))\n",
    "    else:\n",
    "        assert isinstance(min_val, (int, tuple, list, np.array)),'min_val must be int or array like'\n",
    "        if isinstance(min_val, int):\n",
    "            min_val = np.array([min_val]*n_channels)\n",
    "        else:\n",
    "            min_val = np.array(min_val)\n",
    "\n",
    "    assert len(min_val) == n_channels,'min_val length and number of channels differ'\n",
    "    \n",
    "    min_val = min_val.reshape((1, 1, -1))\n",
    "\n",
    "    if max_val is None:\n",
    "        max_val = np.max(img, (0,1))\n",
    "    else:\n",
    "        assert isinstance(max_val, (int, tuple, list, np.array)),'max_val must be int or array like'\n",
    "        if isinstance(max_val, int):\n",
    "            max_val = np.array([max_val]*n_channels)\n",
    "        else:\n",
    "            max_val = np.array(max_val)\n",
    "\n",
    "    assert len(max_val) == n_channels,'max_val length and number of channels differ'\n",
    "    max_val = max_val.reshape((1, 1, -1)) + 1e-5\n",
    "\n",
    "    joint_hist = np.zeros(num_bins, dtype=np.int)\n",
    "    num_bins = num_bins.reshape((1, 1, -1))\n",
    "\n",
    "    # Scale intensities (intensities are scaled within the range for each channel)\n",
    "    # Values now are between 0 and 1\n",
    "    img = (img - min_val) / (max_val - min_val)\n",
    "\n",
    "    # Calculate index matrix\n",
    "    idx_matrix = np.floor(img*num_bins).astype('int')\n",
    "    idx_matrix = idx_matrix.reshape((-1, n_channels))\n",
    "    \n",
    "    #Create joint histogram\n",
    "    for p in range(len(idx_matrix)):\n",
    "        joint_hist[tuple(idx_matrix[p, :])] += 1\n",
    "        \n",
    "    return joint_hist/np.sum(joint_hist)"
   ]
  },
  {
   "cell_type": "code",
   "execution_count": 57,
   "id": "6c901e47",
   "metadata": {
    "deletable": false,
    "nbgrader": {
     "cell_type": "code",
     "checksum": "fc6e6d1a0ba0b21209be355e53e4eddb",
     "grade": false,
     "grade_id": "cell-5378cc00e581e1ab",
     "locked": false,
     "schema_version": 3,
     "solution": true,
     "task": false
    }
   },
   "outputs": [],
   "source": [
    "def color(images, labels, route, tipo, space_bins, color_space):\n",
    "    '''\n",
    "    :param images}: Lista con las imágenes (o rutas de las imágenes) a la cuales se les calculará el descriptor.\n",
    "    :param labels: Lista con las etiquetas de las imágenes pasadas por parámetro.\n",
    "    :param route: Ruta donde serán guardados los descriptores junto con las etiquetas.\n",
    "    :param tipo: Parámetro que indica el tipo de histograma de color que se calculará, puede ser ``joint'' o ``concat''.\n",
    "    :param space_bins: Número entero que indica el numero de bins que existirá por cada canal de color.\n",
    "    :param color_space: Parámetro que indica el espacio de color que se usará, puede ser ``rgb'', ``hsv'', o ``lab''.\n",
    "    \n",
    "    :return features: Arreglo de etiquetas predichas con los descriptores de las imágenes (el mismo que se almacenará en route)\n",
    "    '''\n",
    "\n",
    "    features=[]\n",
    "    label=[]\n",
    "    histogramas=[]\n",
    "    for i in range(len(images)):\n",
    "        print(i)\n",
    "        label.append(labels[i])\n",
    "        if color_space == \"rgb\":\n",
    "            if tipo == \"joint\":\n",
    "                histogramas.append(JointColorHistogram(images[i], space_bins).flatten())\n",
    "                \n",
    "                \n",
    "            \n",
    "            elif tipo == \"concat\":\n",
    "                histogramas.append(CatColorHistogram(images[i], space_bins).flatten())\n",
    "\n",
    "        \n",
    "        elif color_space == \"hsv\":\n",
    "            bgrimg = cv2.cvtColor(images[i], cv2.COLOR_HSV2BGR)\n",
    "            if tipo == \"joint\":\n",
    "                histogramas.append(JointColorHistogram(bgrimg, space_bins).flatten())\n",
    "            \n",
    "            elif tipo == \"concat\":\n",
    "                histogramas.append(CatColorHistogram(bgrimg, space_bins).flatten())\n",
    "\n",
    "        elif color_space == \"lab\":\n",
    "            bgrimg1 = cv2.cvtColor(images[i], cv2.COLOR_LAB2BGR)\n",
    "            if tipo == \"joint\":\n",
    "                histogramas.append(JointColorHistogram(bgrimg1, space_bins).flatten())\n",
    "            elif tipo == \"concat\":\n",
    "                histogramas.append(CatColorHistogram(bgrimg1, space_bins).flatten())\n",
    "\n",
    "        \n",
    "\n",
    "    fe={\"descriptor\":histogramas,\"labels\":label}\n",
    "    fHdl=open(route,\"w\")\n",
    "    fHdl.write(str(fe))\n",
    "    fHdl.close\n",
    "    return np.array(histogramas)\n",
    "    "
   ]
  },
  {
   "cell_type": "code",
   "execution_count": 58,
   "id": "01832388",
   "metadata": {
    "deletable": false,
    "nbgrader": {
     "cell_type": "code",
     "checksum": "253eb85f556664d3a3be6b5f47de85ce",
     "grade": false,
     "grade_id": "cell-ac2618f5c7510774",
     "locked": false,
     "schema_version": 3,
     "solution": true,
     "task": false
    }
   },
   "outputs": [],
   "source": [
    "train_color_route = \"color.txt\"\n"
   ]
  },
  {
   "cell_type": "code",
   "execution_count": 59,
   "id": "d0a22d4d",
   "metadata": {
    "deletable": false,
    "editable": false,
    "nbgrader": {
     "cell_type": "code",
     "checksum": "7b2227e81eeb9fbf70b2b4c1ed9c824f",
     "grade": true,
     "grade_id": "cell-9638e0c60035ebd3",
     "locked": true,
     "points": 0.5,
     "schema_version": 3,
     "solution": false,
     "task": false
    }
   },
   "outputs": [
    {
     "name": "stdout",
     "output_type": "stream",
     "text": [
      "0\n",
      "1\n"
     ]
    },
    {
     "name": "stderr",
     "output_type": "stream",
     "text": [
      "C:\\Users\\ASUS\\AppData\\Local\\Temp\\ipykernel_17096\\2390067883.py:141: DeprecationWarning: `np.int` is a deprecated alias for the builtin `int`. To silence this warning, use `int` by itself. Doing this will not modify any behavior and is safe. When replacing `np.int`, you may wish to use e.g. `np.int64` or `np.int32` to specify the precision. If you wish to review your current use, check the release note link for additional information.\n",
      "Deprecated in NumPy 1.20; for more details and guidance: https://numpy.org/devdocs/release/1.20.0-notes.html#deprecations\n",
      "  joint_hist = np.zeros(num_bins, dtype=np.int)\n"
     ]
    },
    {
     "name": "stdout",
     "output_type": "stream",
     "text": [
      "2\n",
      "3\n",
      "4\n",
      "5\n",
      "6\n",
      "7\n",
      "8\n",
      "9\n",
      "10\n",
      "11\n",
      "12\n",
      "13\n",
      "14\n",
      "15\n",
      "16\n",
      "17\n",
      "18\n",
      "19\n",
      "20\n",
      "21\n",
      "22\n",
      "23\n",
      "24\n",
      "25\n",
      "26\n",
      "27\n",
      "28\n",
      "29\n",
      "30\n",
      "31\n",
      "32\n",
      "33\n",
      "34\n",
      "35\n",
      "36\n",
      "37\n",
      "38\n",
      "39\n",
      "40\n",
      "41\n",
      "42\n",
      "43\n",
      "44\n",
      "45\n",
      "46\n",
      "47\n",
      "48\n",
      "49\n",
      "50\n",
      "51\n",
      "52\n",
      "53\n",
      "54\n",
      "55\n",
      "56\n",
      "57\n",
      "58\n",
      "59\n",
      "60\n",
      "61\n",
      "62\n",
      "63\n",
      "64\n",
      "65\n",
      "66\n",
      "67\n",
      "68\n",
      "69\n",
      "70\n",
      "71\n",
      "72\n",
      "73\n",
      "74\n",
      "75\n",
      "76\n",
      "77\n",
      "78\n",
      "79\n",
      "80\n",
      "81\n",
      "82\n",
      "83\n",
      "84\n",
      "85\n",
      "86\n",
      "87\n",
      "88\n",
      "89\n",
      "90\n",
      "91\n",
      "92\n",
      "93\n",
      "94\n",
      "95\n",
      "96\n",
      "97\n",
      "98\n",
      "99\n",
      "100\n",
      "101\n",
      "102\n",
      "103\n",
      "104\n",
      "105\n",
      "106\n",
      "107\n",
      "108\n",
      "109\n",
      "110\n",
      "111\n",
      "112\n",
      "113\n",
      "114\n",
      "115\n",
      "116\n",
      "117\n",
      "118\n",
      "119\n",
      "120\n",
      "121\n",
      "122\n",
      "123\n",
      "124\n",
      "0\n",
      "1\n",
      "2\n"
     ]
    },
    {
     "name": "stderr",
     "output_type": "stream",
     "text": [
      "C:\\Users\\ASUS\\AppData\\Local\\Temp\\ipykernel_17096\\2390067883.py:63: DeprecationWarning: `np.int` is a deprecated alias for the builtin `int`. To silence this warning, use `int` by itself. Doing this will not modify any behavior and is safe. When replacing `np.int`, you may wish to use e.g. `np.int64` or `np.int32` to specify the precision. If you wish to review your current use, check the release note link for additional information.\n",
      "Deprecated in NumPy 1.20; for more details and guidance: https://numpy.org/devdocs/release/1.20.0-notes.html#deprecations\n",
      "  concat_hist = np.zeros(np.sum(num_bins), dtype=np.int)\n"
     ]
    },
    {
     "name": "stdout",
     "output_type": "stream",
     "text": [
      "3\n",
      "4\n",
      "5\n",
      "6\n",
      "7\n",
      "8\n",
      "9\n",
      "10\n",
      "11\n",
      "12\n",
      "13\n",
      "14\n",
      "15\n",
      "16\n",
      "17\n",
      "18\n",
      "19\n",
      "20\n",
      "21\n",
      "22\n",
      "23\n",
      "24\n",
      "25\n",
      "26\n",
      "27\n",
      "28\n",
      "29\n",
      "30\n",
      "31\n",
      "32\n",
      "33\n",
      "34\n",
      "35\n",
      "36\n",
      "37\n",
      "38\n",
      "39\n",
      "40\n",
      "41\n",
      "42\n",
      "43\n",
      "44\n",
      "45\n",
      "46\n",
      "47\n",
      "48\n",
      "49\n",
      "50\n",
      "51\n",
      "52\n",
      "53\n",
      "54\n",
      "55\n",
      "56\n",
      "57\n",
      "58\n",
      "59\n",
      "60\n",
      "61\n",
      "62\n",
      "63\n",
      "64\n",
      "65\n",
      "66\n",
      "67\n",
      "68\n",
      "69\n",
      "70\n",
      "71\n",
      "72\n",
      "73\n",
      "74\n",
      "75\n",
      "76\n",
      "77\n",
      "78\n",
      "79\n",
      "80\n",
      "81\n",
      "82\n",
      "83\n",
      "84\n",
      "85\n",
      "86\n",
      "87\n",
      "88\n",
      "89\n",
      "90\n",
      "91\n",
      "92\n",
      "93\n",
      "94\n",
      "95\n",
      "96\n",
      "97\n",
      "98\n",
      "99\n",
      "100\n",
      "101\n",
      "102\n",
      "103\n",
      "104\n",
      "105\n",
      "106\n",
      "107\n",
      "108\n",
      "109\n",
      "110\n",
      "111\n",
      "112\n",
      "113\n",
      "114\n",
      "115\n",
      "116\n",
      "117\n",
      "118\n",
      "119\n",
      "120\n",
      "121\n",
      "122\n",
      "123\n",
      "124\n"
     ]
    }
   ],
   "source": [
    "import os\n",
    "color_desc = color(train_images,train_annots,train_color_route,\"joint\",5,\"rgb\")\n",
    "assert len(color_desc.shape) == 2 ,f'Su vector de descriptores debe tener 2 dimensiones, no {len(color_desc.shape)}'\n",
    "assert color_desc.shape[0] == len(train_images),f'no existe un decriptor por imagen, hay {color_desc.shape[0]} descriptores y {len(train_images)} imagenes'\n",
    "assert not np.isclose(np.std(color_desc),0,0.001),f'su funcion retorna descriptores similares o identicos'\n",
    "assert os.path.isfile(train_color_route),'no se está guardando el archivo'\n",
    "\n",
    "assert color_desc.shape[1] ==5**3,f'su modelo histograma conjunto tiene {color_desc.shape[1]} bins, no {5**3}'\n",
    "color_desc_cat = color(train_images,train_annots,train_color_route,\"concat\",5,\"rgb\")\n",
    "assert color_desc_cat.shape[1] ==5*3,f'su modelo histograma conjunto tiene {color_desc_cat.shape[1]} bins, no {5*3}'"
   ]
  },
  {
   "cell_type": "markdown",
   "id": "2d52b8de",
   "metadata": {
    "deletable": false,
    "editable": false,
    "nbgrader": {
     "cell_type": "markdown",
     "checksum": "d22a2c7c2c6b92246a61c5536f608861",
     "grade": false,
     "grade_id": "cell-968b366a5b60a380",
     "locked": true,
     "schema_version": 3,
     "solution": false,
     "task": false
    }
   },
   "source": [
    "## Parte 4: Forma\n",
    "Finalmente, el último descriptor que utilizaremos en este miniproyecto será basado en forma, para esto usarán el {Histograma de gradientes orientados (HOG) que pueden encontrar en el siguiente link.\n",
    "\n",
    "https://scikit-image.org/docs/dev/api/skimage.feature.html#skimage.feature.hog. \n",
    "\n",
    "Este descriptor es especialmente importante ya que es el único descriptor de los que utilizaremos que tiene en cuenta la posición espacial. Para esto, deberán implementar una función que retorne el histograma de gradientes orientados. En esta, deben poder variar por parámetro 2 parámetros que ustedes establezcan para experimentar. Al igual que las funciones de los otros descriptores, esta función no solo debe retornar los descriptores de las imágenes sino que debe poder almacenarlos en un archivo local.  Esta función debe tener la siguiente estructura:\\\\"
   ]
  },
  {
   "cell_type": "code",
   "execution_count": null,
   "id": "cfa801e2",
   "metadata": {
    "deletable": false,
    "nbgrader": {
     "cell_type": "code",
     "checksum": "0f97f6fae530cd618a0333b676c013ea",
     "grade": false,
     "grade_id": "cell-407677d678c13cae",
     "locked": false,
     "schema_version": 3,
     "solution": true,
     "task": false
    }
   },
   "outputs": [],
   "source": [
    "\n",
    "def shape(images, labels, route, numwin, orientaciones ):\n",
    "    '''\n",
    "    :param images: Imágenes de la cuales se calculará el descriptor.\n",
    "    :param labels: Etiquetas de las imágenes.\n",
    "    :param route: Ruta donde serán guardados los descriptores junto con las etiquetas.\n",
    "    :param numwin|||||||||||: Parámetro que determina el numero de ventanas que se van a utilizar para calcular el HOG\n",
    "    :param orientaciones: Parámetro que determina cuantas oreintaciones se utilizaran para calcular cada gradiente\n",
    "    \n",
    "    :return features: Arreglo de etiquetas predichas con los descriptores de las imágenes (el mismo que se almacenará en route)\n",
    "    '''\n",
    "    HOG = []\n",
    "    for i in images and labels:\n",
    "\n",
    "        if orientaciones == 8:\n",
    "        \n",
    "        elif orientaciones == 18:\n",
    "            \n",
    "\n",
    "    \n",
    "    return np.array(features)"
   ]
  },
  {
   "cell_type": "code",
   "execution_count": null,
   "id": "00966636",
   "metadata": {
    "deletable": false,
    "nbgrader": {
     "cell_type": "code",
     "checksum": "c399fac9f6b793d2969a0c76045511c2",
     "grade": false,
     "grade_id": "cell-70f77ee5f2d76d29",
     "locked": false,
     "schema_version": 3,
     "solution": true,
     "task": false
    }
   },
   "outputs": [],
   "source": [
    "train_shape_route = ''\n",
    "# YOUR CODE HERE\n",
    "raise NotImplementedError()"
   ]
  },
  {
   "cell_type": "code",
   "execution_count": null,
   "id": "b4e4d7c1",
   "metadata": {
    "deletable": false,
    "editable": false,
    "nbgrader": {
     "cell_type": "code",
     "checksum": "6589fbeb6611c34a9e53c1b4885f6ce0",
     "grade": true,
     "grade_id": "cell-2645d62759258264",
     "locked": true,
     "points": 0.5,
     "schema_version": 3,
     "solution": false,
     "task": false
    }
   },
   "outputs": [],
   "source": [
    "import os\n",
    "shape_desc = shape(train_images,train_annots,train_shape_route)\n",
    "assert len(shape_desc.shape) == 2 ,f'Su vector de descriptores debe tener 2 dimensiones, no {len(shape_desc.shape)}'\n",
    "assert shape_desc.shape[0] == len(train_images),f'no existe un decriptor por imagen, hay {shape_desc.shape[0]} descriptores y {len(train_images)} imagenes'\n",
    "assert not np.isclose(np.std(shape_desc),0,0.001),f'su funcion retorna descriptores similares o identicos'\n",
    "assert os.path.isfile(train_shape_route),'no se está guardando el archivo'"
   ]
  },
  {
   "cell_type": "markdown",
   "id": "ecae6714",
   "metadata": {},
   "source": [
    "## Parte 5: Experimentación\n",
    "Ahora que ya tenemos implementados nuestros nuevos descriptores de patrones visuales vamos a experimentar con ellos, usando\n",
    "\n",
    "### 5.1 Textura:\n",
    "Deben realizar la experimentación variando el número de textones que hay en el diccionario (es decir el numero de bins del histograma). Deben construir por lo menos 4 diccionarios diferentes.**(4 experimentos)**\n",
    "\n",
    "> Nota: La respuesta a los filtros solo deberían calcularla una vez, guarden esto en archivos y calculen los 4 diccionarios e histogramas usando estos.\n",
    "\n",
    "### 5.2 Color:\n",
    "Deben realizar la experimentación en grid 2x3, variando el tipo de histograma que se calcula y el espacio de color respectivamente. **(6 experimentos)**\n",
    "\n",
    "### 5.3 Forma: \n",
    "Deben realizar la experimentación en grid 2x2(es decir las 4 combinaciones de 2 parametros con 2 valores cada uno) escogiendo 2 parámetros de la función para calcular HOG y 2 valores para cada uno de dichos parámetros. **(4 experimentos)**\n",
    "\n"
   ]
  },
  {
   "cell_type": "code",
   "execution_count": null,
   "id": "0478e658",
   "metadata": {},
   "outputs": [],
   "source": [
    "# use este espacio para hacer sus experimentos"
   ]
  },
  {
   "cell_type": "markdown",
   "id": "7041d80e",
   "metadata": {},
   "source": [
    "## Articulo\n",
    "\n",
    "Una vez realizado el procedimiento es fundamental que se continue con la construcción del articulo de forma progresiva, por lo cual incluiremos lo que hicimos en esta entrega.\n",
    "\n",
    "### Abordaje\n",
    "\n",
    "#### Descriptores\n",
    "Inicialmente explicarán los descriptores, estos no solo los usarán para su método de baseline, sino para el método final. Para esta entrega, describan los 3 descriptores, además de los parámetros que variaron y su propósito. Para esta descripción pueden basarse en las siguientes preguntas:\n",
    "- ¿En qué consistía su descriptor?\n",
    "- ¿Qué pretendía mostrar?\n",
    "- ¿Qué características de la imagen usa?\n",
    "- ¿Por qué este descriptor sería de utilidad?\n",
    "\n",
    "#### Baseline\n",
    "Paso siguiente, deben describir su método de vecino mas cercano, el cual será su *baseline* con el que deberán compararse al tener su metodología experimental.\n",
    "Para esto describan brevemente el procedimiento que usaron para poder asignar etiquetas basados en clusterización. No incluyan información sobre la librería o la función específica, basta con el método, parámetros y describir su razonamiento. Pueden guiarse de las siguientes preguntas:\n",
    "\n",
    "- ¿En qué consiste su método?\n",
    "- ¿De qué elementos y procedimientos se compone?\n",
    "- ¿Qué ventajas tiene?\n",
    "- ¿Por qué este clasificador sería de utilidad?\n",
    "\n",
    "Registren los resultados de sus experimentos del clasificador de *baseline* en su artículo. Incluyan los resultados en una única tabla y resalten en negrilla su mejor resultado, además realice una breve descripción de estos resultados.\n",
    "\n",
    "\n",
    "### Experimentos\n",
    "#### Baseline\n",
    "Finalmente, ya cuentan con los primeros experimentos así como sus primeros resultados, los cuáles deberán ser agregados a su artículo en la sección de experimentos. Primero hagan la descripción de los experimentos que realizaron para los descriptores de color. Luego, incluyan los resultados de la experimentación en una única tabla y señalen en negrilla claramente cuál fue el mejor resultado. Además, deben hacer una breve descripción de sus resultados. Para lo anterior, pueden usar las siguientes preguntas como guía para armar su descripción.\n",
    "- ¿Cuál fue su mejor método?\n",
    "- ¿Hubo algún parámetro que influyera mas? (i.e. el histograma conjunto tuvo mejor desempeño en términos generales que el concatenado.)\n",
    "- ¿Qué combinación no funcionó de forma correcta?\n",
    "- ¿Existía alguna tendencia?}\n",
    "\n",
    "### Discusión\n",
    "\n",
    "#### Descriptores\n",
    "Incluyan un análisis de lo obtenido en sus experimentos. Para esto analicen las implicaciones que tienen las métricas obtenidas en los resultados así como los resultados cualitativos, teoricen sobre las razones detrás de estos resultados y cómo propondrían mejorar estas falencias.\n",
    "\n",
    "#### Baseline\n",
    "Además, deben discutir sobre el método final que obtuvieron para el baseline (NN con su mejor descriptor) y los resultados de la experimentación que los condujeron a esta decisión, analicen las métricas y resultados cualitativos que lograron obtener.\n",
    "Para la discusión pueden utilizar las siguientes preguntas como guía: \n",
    "- ¿Por qué creen que el mejor experimento dio así?\n",
    "- Si existe alguna tendencia ¿qué podría significar esta?\n",
    "- ¿Se debe continuar con el descriptor de mejor desempeño?\n",
    "- ¿Cuál de los descriptores cree usted que obtendrá mejores resultados con los clasificadores supervisados? ¿Por qué?\n",
    "- ¿Cree usted que su método de \\textit{baseline} es óptimo? ¿Que ventajas/dificultades tiene?\n",
    "- ¿Qué características comunes tienen aquellas imágenes mal clasificadas?"
   ]
  },
  {
   "cell_type": "code",
   "execution_count": null,
   "id": "8a304ce3",
   "metadata": {},
   "outputs": [],
   "source": []
  }
 ],
 "metadata": {
  "kernelspec": {
   "display_name": "Python 3.9.10 64-bit",
   "language": "python",
   "name": "python3"
  },
  "language_info": {
   "codemirror_mode": {
    "name": "ipython",
    "version": 3
   },
   "file_extension": ".py",
   "mimetype": "text/x-python",
   "name": "python",
   "nbconvert_exporter": "python",
   "pygments_lexer": "ipython3",
   "version": "3.9.10"
  },
  "vscode": {
   "interpreter": {
    "hash": "11938c6bc6919ae2720b4d5011047913343b08a43b18698fd82dedb0d4417594"
   }
  }
 },
 "nbformat": 4,
 "nbformat_minor": 5
}
